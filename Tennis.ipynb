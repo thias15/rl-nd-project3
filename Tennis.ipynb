{
 "cells": [
  {
   "cell_type": "markdown",
   "metadata": {},
   "source": [
    "# Collaboration and Competition\n",
    "\n",
    "---\n",
    "\n",
    "In this notebook, you will learn how to use the Unity ML-Agents environment for the third project of the [Deep Reinforcement Learning Nanodegree](https://www.udacity.com/course/deep-reinforcement-learning-nanodegree--nd893) program.\n",
    "\n",
    "### 1. Start the Environment\n",
    "\n",
    "We begin by importing the necessary packages.  If the code cell below returns an error, please revisit the project instructions to double-check that you have installed [Unity ML-Agents](https://github.com/Unity-Technologies/ml-agents/blob/master/docs/Installation.md) and [NumPy](http://www.numpy.org/)."
   ]
  },
  {
   "cell_type": "code",
   "execution_count": 1,
   "metadata": {},
   "outputs": [
    {
     "name": "stdout",
     "output_type": "stream",
     "text": [
      "Using: cuda:0\n"
     ]
    }
   ],
   "source": [
    "from unityagents import UnityEnvironment\n",
    "import numpy as np\n",
    "import torch\n",
    "from collections import deque\n",
    "from ddpg_agent import Agent\n",
    "import matplotlib.pyplot as plt\n",
    "%matplotlib inline"
   ]
  },
  {
   "cell_type": "markdown",
   "metadata": {},
   "source": [
    "Next, we will start the environment!  **_Before running the code cell below_**, change the `file_name` parameter to match the location of the Unity environment that you downloaded.\n",
    "\n",
    "- **Mac**: `\"path/to/Tennis.app\"`\n",
    "- **Windows** (x86): `\"path/to/Tennis_Windows_x86/Tennis.exe\"`\n",
    "- **Windows** (x86_64): `\"path/to/Tennis_Windows_x86_64/Tennis.exe\"`\n",
    "- **Linux** (x86): `\"path/to/Tennis_Linux/Tennis.x86\"`\n",
    "- **Linux** (x86_64): `\"path/to/Tennis_Linux/Tennis.x86_64\"`\n",
    "- **Linux** (x86, headless): `\"path/to/Tennis_Linux_NoVis/Tennis.x86\"`\n",
    "- **Linux** (x86_64, headless): `\"path/to/Tennis_Linux_NoVis/Tennis.x86_64\"`\n",
    "\n",
    "For instance, if you are using a Mac, then you downloaded `Tennis.app`.  If this file is in the same folder as the notebook, then the line below should appear as follows:\n",
    "```\n",
    "env = UnityEnvironment(file_name=\"Tennis.app\")\n",
    "```"
   ]
  },
  {
   "cell_type": "code",
   "execution_count": 2,
   "metadata": {},
   "outputs": [
    {
     "name": "stderr",
     "output_type": "stream",
     "text": [
      "INFO:unityagents:\n",
      "'Academy' started successfully!\n",
      "Unity Academy name: Academy\n",
      "        Number of Brains: 1\n",
      "        Number of External Brains : 1\n",
      "        Lesson number : 0\n",
      "        Reset Parameters :\n",
      "\t\t\n",
      "Unity brain name: TennisBrain\n",
      "        Number of Visual Observations (per agent): 0\n",
      "        Vector Observation space type: continuous\n",
      "        Vector Observation space size (per agent): 8\n",
      "        Number of stacked Vector Observation: 3\n",
      "        Vector Action space type: continuous\n",
      "        Vector Action space size (per agent): 2\n",
      "        Vector Action descriptions: , \n"
     ]
    }
   ],
   "source": [
    "env = UnityEnvironment(file_name='Tennis_Windows_x86_64/Tennis.exe')"
   ]
  },
  {
   "cell_type": "markdown",
   "metadata": {},
   "source": [
    "Environments contain **_brains_** which are responsible for deciding the actions of their associated agents. Here we check for the first brain available, and set it as the default brain we will be controlling from Python."
   ]
  },
  {
   "cell_type": "code",
   "execution_count": 3,
   "metadata": {},
   "outputs": [],
   "source": [
    "# get the default brain\n",
    "brain_name = env.brain_names[0]\n",
    "brain = env.brains[brain_name]"
   ]
  },
  {
   "cell_type": "markdown",
   "metadata": {},
   "source": [
    "### 2. Examine the State and Action Spaces\n",
    "\n",
    "In this environment, two agents control rackets to bounce a ball over a net. If an agent hits the ball over the net, it receives a reward of +0.1.  If an agent lets a ball hit the ground or hits the ball out of bounds, it receives a reward of -0.01.  Thus, the goal of each agent is to keep the ball in play.\n",
    "\n",
    "The observation space consists of 8 variables corresponding to the position and velocity of the ball and racket. Two continuous actions are available, corresponding to movement toward (or away from) the net, and jumping. \n",
    "\n",
    "Run the code cell below to print some information about the environment."
   ]
  },
  {
   "cell_type": "code",
   "execution_count": 4,
   "metadata": {},
   "outputs": [
    {
     "name": "stdout",
     "output_type": "stream",
     "text": [
      "Number of agents: 2\n",
      "Size of each action: 2\n",
      "There are 2 agents. Each observes a state with length: 24\n",
      "The state for the first agent looks like: [ 0.          0.          0.          0.          0.          0.\n",
      "  0.          0.          0.          0.          0.          0.\n",
      "  0.          0.          0.          0.         -6.65278625 -1.5\n",
      " -0.          0.          6.83172083  6.         -0.          0.        ]\n"
     ]
    }
   ],
   "source": [
    "# reset the environment\n",
    "env_info = env.reset(train_mode=True)[brain_name]\n",
    "\n",
    "# number of agents \n",
    "num_agents = len(env_info.agents)\n",
    "print('Number of agents:', num_agents)\n",
    "\n",
    "# size of each action\n",
    "action_size = brain.vector_action_space_size\n",
    "print('Size of each action:', action_size)\n",
    "\n",
    "# examine the state space \n",
    "states = env_info.vector_observations\n",
    "state_size = states.shape[1]\n",
    "print('There are {} agents. Each observes a state with length: {}'.format(states.shape[0], state_size))\n",
    "print('The state for the first agent looks like:', states[0])"
   ]
  },
  {
   "cell_type": "markdown",
   "metadata": {},
   "source": [
    "### 3. Take Random Actions in the Environment\n",
    "\n",
    "In the next code cell, you will learn how to use the Python API to control the agents and receive feedback from the environment.\n",
    "\n",
    "Once this cell is executed, you will watch the agents' performance, if they select actions at random with each time step.  A window should pop up that allows you to observe the agents.\n",
    "\n",
    "Of course, as part of the project, you'll have to change the code so that the agents are able to use their experiences to gradually choose better actions when interacting with the environment!"
   ]
  },
  {
   "cell_type": "code",
   "execution_count": 5,
   "metadata": {},
   "outputs": [
    {
     "name": "stdout",
     "output_type": "stream",
     "text": [
      "Score (max over agents) from episode 1: 0.0\n",
      "Score (max over agents) from episode 2: 0.0\n",
      "Score (max over agents) from episode 3: 0.0\n",
      "Score (max over agents) from episode 4: 0.0\n",
      "Score (max over agents) from episode 5: 0.0\n"
     ]
    }
   ],
   "source": [
    "for i in range(1, 6):                                      # play game for 5 episodes\n",
    "    env_info = env.reset(train_mode=False)[brain_name]     # reset the environment    \n",
    "    states = env_info.vector_observations                  # get the current state (for each agent)\n",
    "    scores = np.zeros(num_agents)                          # initialize the score (for each agent)\n",
    "    while True:\n",
    "        actions = np.random.randn(num_agents, action_size) # select an action (for each agent)\n",
    "        actions = np.clip(actions, -1, 1)                  # all actions between -1 and 1\n",
    "        env_info = env.step(actions)[brain_name]           # send all actions to tne environment\n",
    "        next_states = env_info.vector_observations         # get next state (for each agent)\n",
    "        rewards = env_info.rewards                         # get reward (for each agent)\n",
    "        dones = env_info.local_done                        # see if episode finished\n",
    "        scores += env_info.rewards                         # update the score (for each agent)\n",
    "        states = next_states                               # roll over states to next time step\n",
    "        if np.any(dones):                                  # exit loop if episode finished\n",
    "            break\n",
    "    print('Score (max over agents) from episode {}: {}'.format(i, np.max(scores)))"
   ]
  },
  {
   "cell_type": "markdown",
   "metadata": {},
   "source": [
    "### 4. Solving the Tennis Environment with DDPG\n",
    "\n",
    "Now it's your turn to train your own agent to solve the environment!  When training the environment, set `train_mode=True`, so that the line for resetting the environment looks like the following:\n",
    "```python\n",
    "env_info = env.reset(train_mode=True)[brain_name]\n",
    "```"
   ]
  },
  {
   "cell_type": "code",
   "execution_count": 6,
   "metadata": {
    "scrolled": false
   },
   "outputs": [
    {
     "name": "stdout",
     "output_type": "stream",
     "text": [
      "Episode 100\tAverage Score: 0.016\tMax Score: 0.20\n",
      "Episode 200\tAverage Score: 0.040\tMax Score: 0.20\n",
      "Episode 300\tAverage Score: 0.103\tMax Score: 0.30\n",
      "Episode 400\tAverage Score: 0.117\tMax Score: 0.50\n",
      "Episode 500\tAverage Score: 0.170\tMax Score: 0.60\n",
      "Episode 600\tAverage Score: 0.237\tMax Score: 0.70\n",
      "Episode 700\tAverage Score: 0.325\tMax Score: 1.10\n",
      "Episode 800\tAverage Score: 0.383\tMax Score: 1.90\n",
      "Episode 880\tAverage Score: 0.511\tMax Score: 2.60\n",
      "Environment solved in 880 episodes!\tAverage Score: 0.511\n",
      "Episode 900\tAverage Score: 0.590\tMax Score: 2.60\n",
      "Episode 1000\tAverage Score: 0.912\tMax Score: 2.70\n"
     ]
    }
   ],
   "source": [
    "bSolved = False\n",
    "num_episodes=1000\n",
    "noise_episodes=500\n",
    "num_agents = 2\n",
    "agents = [Agent(state_size=state_size, action_size=action_size, random_seed=10) for _ in range(num_agents)]\n",
    "scores_deque = deque(maxlen=100)\n",
    "scores_all = []\n",
    "scores_avg = []\n",
    "best_score = 0\n",
    "for i_episode in range(1, num_episodes+1):\n",
    "    env_info = env.reset(train_mode=True)[brain_name]            # reset the environment\n",
    "    states = env_info.vector_observations                        # get states from environment\n",
    "    scores = np.zeros(num_agents)                                # initialize scores to zero\n",
    "    actions = np.random.randn(num_agents, action_size)           # initialize actions to random\n",
    "    t_step = 0\n",
    "    while True:\n",
    "        p = np.clip(1 - np.sqrt(i_episode/noise_episodes), 0, 1) # noise probability, decrease as agent converges\n",
    "        for i in range(num_agents):\n",
    "            actions[i] = agents[i].act(states.flatten(),         # select an action from policy\n",
    "                               noise_prob = p,                   # add noise with probability p\n",
    "                               noise_scale = 1,                  # scale noise\n",
    "                               noise_type='ou',                  # type of noise (ou, uni)\n",
    "                               noise_apply='add')                # how to apply noise (thres, fuse, add)\n",
    "\n",
    "        env_info = env.step(actions)[brain_name]                 # send the actions to the environment\n",
    "        next_states = env_info.vector_observations               # get next states\n",
    "        rewards = env_info.rewards                               # get the rewards\n",
    "        dones = env_info.local_done                              # see if episode has finished\n",
    "\n",
    "        for i in range(num_agents): # agent step for each\n",
    "            agents[i].step(states.flatten(), actions.flatten(), rewards, next_states.flatten(), dones, t_step, num_agents) \n",
    "            \n",
    "        scores += rewards                                        # update the scores\n",
    "        states = next_states                                     # roll over the states to next time step\n",
    "        t_step += 1                                              # keep track of steps\n",
    "        if np.any(dones):                                        # exit loop if episode finished\n",
    "            break\n",
    "\n",
    "    max_score = np.max(scores)\n",
    "    scores_deque.append(max_score)\n",
    "    scores_all.append(max_score)\n",
    "    scores_avg.append(np.mean(scores_deque))\n",
    "    print('\\rEpisode {}\\tAverage Score: {:.3f}\\tMax Score: {:.2f}'.format(i_episode, np.mean(scores_deque), np.max(scores_deque)), end=\"\")\n",
    "    if i_episode % 100 == 0:\n",
    "        for i in range(0,num_agents):\n",
    "            torch.save(agents[i].actor_local.state_dict(), 'checkpoints/actor' + str(i) + '_temp.pth')\n",
    "            torch.save(agents[i].critic_local.state_dict(), 'checkpoints/critic' + str(i) + '_temp.pth')\n",
    "        print('\\rEpisode {}\\tAverage Score: {:.3f}\\tMax Score: {:.2f}'.format(i_episode, np.mean(scores_deque), np.max(scores_deque)))\n",
    "\n",
    "    if max_score > best_score:\n",
    "        for i in range(0,num_agents):\n",
    "            torch.save(agents[i].actor_local.state_dict(), 'checkpoints/actor' + str(i) + '_best.pth')\n",
    "            torch.save(agents[i].critic_local.state_dict(), 'checkpoints/critic' + str(i) + '_best.pth')\n",
    "        best_score = max_score\n",
    "            \n",
    "    if np.mean(scores_deque) >= 0.5 and not bSolved:\n",
    "        for i in range(0,num_agents):\n",
    "            torch.save(agents[i].actor_local.state_dict(), 'checkpoints/actor' + str(i) + '_solved.pth')\n",
    "            torch.save(agents[i].critic_local.state_dict(), 'checkpoints/critic' + str(i) + '_solved.pth')\n",
    "        print('\\nEnvironment solved in {:d} episodes!\\tAverage Score: {:.3f}'.format(i_episode, np.mean(scores_deque)))\n",
    "        bSolved = True"
   ]
  },
  {
   "cell_type": "markdown",
   "metadata": {},
   "source": [
    "Let's evaluate the trained agent and visualize its performance!"
   ]
  },
  {
   "cell_type": "code",
   "execution_count": 7,
   "metadata": {
    "scrolled": true
   },
   "outputs": [
    {
     "data": {
      "image/png": "[encoded data removed]",
      "text/plain": [
       "<Figure size 432x288 with 1 Axes>"
      ]
     },
     "metadata": {
      "needs_background": "light"
     },
     "output_type": "display_data"
    }
   ],
   "source": [
    "fig = plt.figure()\n",
    "ax = fig.add_subplot(111)\n",
    "plt.plot(np.arange(1, len(scores_all)+1), scores_all, color='gray', label='Raw')\n",
    "plt.plot(np.arange(1, len(scores_all)+1), scores_avg, color='green', label='Avg')\n",
    "plt.ylabel('Score')\n",
    "plt.xlabel('Episode #')\n",
    "plt.legend()\n",
    "plt.show()"
   ]
  },
  {
   "cell_type": "code",
   "execution_count": 8,
   "metadata": {},
   "outputs": [],
   "source": [
    "def evaluate(agents, n_episodes=10):\n",
    "    for i_episode in range(1,n_episodes+1):\n",
    "        env_info = env.reset(train_mode=False)[brain_name]     # reset the environment    \n",
    "        states = env_info.vector_observations                  # get states from environment\n",
    "        scores = np.zeros(num_agents)                          # initialize scores to zero\n",
    "        actions = np.random.randn(num_agents, action_size)     # initialize actions to random\n",
    "        while True:\n",
    "            for i in range(num_agents):\n",
    "                actions[i] = agents[i].act(states.flatten())   # select an action from policy\n",
    "            env_info = env.step(actions)[brain_name]           # send the actions to the environment\n",
    "            next_states = env_info.vector_observations         # get next states from environment\n",
    "            rewards = env_info.rewards                         # get rewards from environment\n",
    "            dones = env_info.local_done                        # see if episode finished\n",
    "            scores += rewards                                  # update the scores\n",
    "            states = next_states                               # roll over states to next time step\n",
    "            if np.any(dones):                                  # exit loop if episode finished\n",
    "                break\n",
    "        print('\\rEpisode {} \\tMax Score: {:.2f}'.format(i_episode, np.max(scores)))"
   ]
  },
  {
   "cell_type": "code",
   "execution_count": 9,
   "metadata": {},
   "outputs": [],
   "source": [
    "for i in range(num_agents):\n",
    "    agents[i].load('checkpoints/actor'+str(i)+'_best.pth', 'checkpoints/critic'+str(i)+'_best.pth')"
   ]
  },
  {
   "cell_type": "code",
   "execution_count": 10,
   "metadata": {
    "scrolled": true
   },
   "outputs": [
    {
     "name": "stdout",
     "output_type": "stream",
     "text": [
      "Episode 1 \tMax Score: 0.20\n",
      "Episode 2 \tMax Score: 0.10\n",
      "Episode 3 \tMax Score: 2.60\n",
      "Episode 4 \tMax Score: 2.70\n",
      "Episode 5 \tMax Score: 2.70\n",
      "Episode 6 \tMax Score: 2.70\n",
      "Episode 7 \tMax Score: 2.60\n",
      "Episode 8 \tMax Score: 0.20\n",
      "Episode 9 \tMax Score: 0.30\n",
      "Episode 10 \tMax Score: 2.60\n"
     ]
    }
   ],
   "source": [
    "evaluate(agents, n_episodes=10)"
   ]
  },
  {
   "cell_type": "markdown",
   "metadata": {},
   "source": [
    "When finished, you can close the environment."
   ]
  },
  {
   "cell_type": "code",
   "execution_count": 11,
   "metadata": {},
   "outputs": [],
   "source": [
    "env.close()"
   ]
  }
 ],
 "metadata": {
  "kernelspec": {
   "display_name": "Python 3",
   "language": "python",
   "name": "python3"
  },
  "language_info": {
   "codemirror_mode": {
    "name": "ipython",
    "version": 3
   },
   "file_extension": ".py",
   "mimetype": "text/x-python",
   "name": "python",
   "nbconvert_exporter": "python",
   "pygments_lexer": "ipython3",
   "version": "3.6.8"
  }
 },
 "nbformat": 4,
 "nbformat_minor": 2
}
